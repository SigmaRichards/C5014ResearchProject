{
 "cells": [
  {
   "cell_type": "markdown",
   "metadata": {},
   "source": [
    "Just a testing notebook, need to make a utility function for this process"
   ]
  },
  {
   "cell_type": "code",
   "execution_count": 1,
   "metadata": {},
   "outputs": [],
   "source": [
    "import open3d as o3d"
   ]
  },
  {
   "cell_type": "code",
   "execution_count": 20,
   "metadata": {},
   "outputs": [],
   "source": [
    "#Utility Function to hide stdout\n",
    "\n",
    "from contextlib import contextmanager\n",
    "import sys, os\n",
    "\n",
    "@contextmanager\n",
    "def suppress_stdout():\n",
    "    with open(os.devnull, \"w\") as devnull:\n",
    "        old_stdout = sys.stdout\n",
    "        sys.stdout = devnull\n",
    "        try:  \n",
    "            yield\n",
    "        finally:\n",
    "            sys.stdout = old_stdout"
   ]
  },
  {
   "cell_type": "code",
   "execution_count": 2,
   "metadata": {},
   "outputs": [],
   "source": [
    "path = \"../../Data/Tiles/\""
   ]
  },
  {
   "cell_type": "code",
   "execution_count": 10,
   "metadata": {},
   "outputs": [],
   "source": [
    "from os import listdir\n",
    "from os.path import isfile, join\n",
    "\n",
    "allfiles = [f for f in listdir(path) if isfile(join(path, f))]\n",
    "allObjNames = [f for f in allfiles if (f.find(\".obj\") != -1)]"
   ]
  },
  {
   "cell_type": "code",
   "execution_count": 46,
   "metadata": {},
   "outputs": [
    {
     "name": "stdout",
     "output_type": "stream",
     "text": [
      "[Open3D INFO] Skipping non-triangle primitive geometry of type: 2\n"
     ]
    }
   ],
   "source": [
    "index = 0\n",
    "mesh = o3d.io.read_triangle_mesh(path + allObjNames[index],True)"
   ]
  },
  {
   "cell_type": "code",
   "execution_count": 47,
   "metadata": {},
   "outputs": [],
   "source": [
    "pcd = mesh.sample_points_uniformly(50000)"
   ]
  },
  {
   "cell_type": "code",
   "execution_count": 59,
   "metadata": {},
   "outputs": [],
   "source": [
    "import numpy as np\n",
    "#np.asarray(mesh.vertices)\n",
    "img = (mesh.textures)"
   ]
  },
  {
   "cell_type": "code",
   "execution_count": 84,
   "metadata": {},
   "outputs": [
    {
     "data": {
      "text/plain": [
       "['HalfEdgeTriangleMesh',\n",
       " 'Image',\n",
       " 'LineSet',\n",
       " 'PointCloud',\n",
       " 'RGBDImage',\n",
       " 'TetraMesh',\n",
       " 'TriangleMesh',\n",
       " 'Type',\n",
       " 'Unspecified',\n",
       " 'VoxelGrid',\n",
       " '__add__',\n",
       " '__class__',\n",
       " '__copy__',\n",
       " '__deepcopy__',\n",
       " '__delattr__',\n",
       " '__dir__',\n",
       " '__doc__',\n",
       " '__eq__',\n",
       " '__format__',\n",
       " '__ge__',\n",
       " '__getattribute__',\n",
       " '__gt__',\n",
       " '__hash__',\n",
       " '__iadd__',\n",
       " '__init__',\n",
       " '__init_subclass__',\n",
       " '__le__',\n",
       " '__lt__',\n",
       " '__module__',\n",
       " '__ne__',\n",
       " '__new__',\n",
       " '__reduce__',\n",
       " '__reduce_ex__',\n",
       " '__repr__',\n",
       " '__setattr__',\n",
       " '__sizeof__',\n",
       " '__str__',\n",
       " '__subclasshook__',\n",
       " 'adjacency_list',\n",
       " 'clear',\n",
       " 'cluster_connected_triangles',\n",
       " 'compute_adjacency_list',\n",
       " 'compute_convex_hull',\n",
       " 'compute_triangle_normals',\n",
       " 'compute_vertex_normals',\n",
       " 'create_arrow',\n",
       " 'create_box',\n",
       " 'create_cone',\n",
       " 'create_coordinate_frame',\n",
       " 'create_cylinder',\n",
       " 'create_from_point_cloud_alpha_shape',\n",
       " 'create_from_point_cloud_ball_pivoting',\n",
       " 'create_from_point_cloud_poisson',\n",
       " 'create_icosahedron',\n",
       " 'create_moebius',\n",
       " 'create_octahedron',\n",
       " 'create_sphere',\n",
       " 'create_tetrahedron',\n",
       " 'create_torus',\n",
       " 'crop',\n",
       " 'deform_as_rigid_as_possible',\n",
       " 'dimension',\n",
       " 'euler_poincare_characteristic',\n",
       " 'filter_sharpen',\n",
       " 'filter_smooth_laplacian',\n",
       " 'filter_smooth_simple',\n",
       " 'filter_smooth_taubin',\n",
       " 'get_axis_aligned_bounding_box',\n",
       " 'get_center',\n",
       " 'get_geometry_type',\n",
       " 'get_max_bound',\n",
       " 'get_min_bound',\n",
       " 'get_non_manifold_edges',\n",
       " 'get_non_manifold_vertices',\n",
       " 'get_oriented_bounding_box',\n",
       " 'get_rotation_matrix_from_axis_angle',\n",
       " 'get_rotation_matrix_from_quaternion',\n",
       " 'get_rotation_matrix_from_xyz',\n",
       " 'get_rotation_matrix_from_xzy',\n",
       " 'get_rotation_matrix_from_yxz',\n",
       " 'get_rotation_matrix_from_yzx',\n",
       " 'get_rotation_matrix_from_zxy',\n",
       " 'get_rotation_matrix_from_zyx',\n",
       " 'get_self_intersecting_triangles',\n",
       " 'get_surface_area',\n",
       " 'get_volume',\n",
       " 'has_adjacency_list',\n",
       " 'has_textures',\n",
       " 'has_triangle_material_ids',\n",
       " 'has_triangle_normals',\n",
       " 'has_triangle_uvs',\n",
       " 'has_triangles',\n",
       " 'has_vertex_colors',\n",
       " 'has_vertex_normals',\n",
       " 'has_vertices',\n",
       " 'is_edge_manifold',\n",
       " 'is_empty',\n",
       " 'is_intersecting',\n",
       " 'is_orientable',\n",
       " 'is_self_intersecting',\n",
       " 'is_vertex_manifold',\n",
       " 'is_watertight',\n",
       " 'merge_close_vertices',\n",
       " 'normalize_normals',\n",
       " 'orient_triangles',\n",
       " 'paint_uniform_color',\n",
       " 'remove_degenerate_triangles',\n",
       " 'remove_duplicated_triangles',\n",
       " 'remove_duplicated_vertices',\n",
       " 'remove_non_manifold_edges',\n",
       " 'remove_triangles_by_index',\n",
       " 'remove_triangles_by_mask',\n",
       " 'remove_unreferenced_vertices',\n",
       " 'remove_vertices_by_index',\n",
       " 'remove_vertices_by_mask',\n",
       " 'rotate',\n",
       " 'sample_points_poisson_disk',\n",
       " 'sample_points_uniformly',\n",
       " 'scale',\n",
       " 'select_by_index',\n",
       " 'simplify_quadric_decimation',\n",
       " 'simplify_vertex_clustering',\n",
       " 'subdivide_loop',\n",
       " 'subdivide_midpoint',\n",
       " 'textures',\n",
       " 'transform',\n",
       " 'translate',\n",
       " 'triangle_material_ids',\n",
       " 'triangle_normals',\n",
       " 'triangle_uvs',\n",
       " 'triangles',\n",
       " 'vertex_colors',\n",
       " 'vertex_normals',\n",
       " 'vertices']"
      ]
     },
     "execution_count": 84,
     "metadata": {},
     "output_type": "execute_result"
    }
   ],
   "source": [
    "dir(mesh)"
   ]
  },
  {
   "cell_type": "code",
   "execution_count": 88,
   "metadata": {},
   "outputs": [
    {
     "data": {
      "text/plain": [
       "(966987, 2)"
      ]
     },
     "execution_count": 88,
     "metadata": {},
     "output_type": "execute_result"
    }
   ],
   "source": [
    "np.asarray(mesh.triangle_uvs).shape"
   ]
  },
  {
   "cell_type": "code",
   "execution_count": null,
   "metadata": {},
   "outputs": [],
   "source": []
  }
 ],
 "metadata": {
  "kernelspec": {
   "display_name": "Python 3",
   "language": "python",
   "name": "python3"
  },
  "language_info": {
   "codemirror_mode": {
    "name": "ipython",
    "version": 3
   },
   "file_extension": ".py",
   "mimetype": "text/x-python",
   "name": "python",
   "nbconvert_exporter": "python",
   "pygments_lexer": "ipython3",
   "version": "3.8.5"
  }
 },
 "nbformat": 4,
 "nbformat_minor": 4
}
