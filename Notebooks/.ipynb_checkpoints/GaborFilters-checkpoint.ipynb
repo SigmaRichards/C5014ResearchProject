{
 "cells": [
  {
   "cell_type": "code",
   "execution_count": 37,
   "metadata": {},
   "outputs": [],
   "source": [
    "from matplotlib import pyplot as plt\n",
    "import numpy as np\n",
    "import re"
   ]
  },
  {
   "cell_type": "code",
   "execution_count": 2,
   "metadata": {},
   "outputs": [],
   "source": [
    "from os import listdir\n",
    "from os.path import isfile, join\n",
    "\n",
    "b_path = \"../../Data/STD_Folder/\"\n",
    "\n",
    "flat_p = join(b_path,\"flat\")\n",
    "class_p = join(b_path,\"class\")\n",
    "depth_p = join(b_path,\"depth\")\n",
    "\n",
    "allfiles_flat = [join(flat_p, f) for f in listdir(flat_p) if isfile(join(flat_p, f))]\n",
    "allfiles_class = [join(class_p, f) for f in listdir(class_p) if isfile(join(class_p, f))]\n",
    "allfiles_depth = [join(depth_p, f) for f in listdir(depth_p) if isfile(join(depth_p, f))]\n",
    "\n",
    "#out = [f for f in allfiles if (f.find(ftype) != -1)]"
   ]
  },
  {
   "cell_type": "code",
   "execution_count": null,
   "metadata": {},
   "outputs": [],
   "source": [
    "from time import time\n",
    "start = time()\n",
    "is_diff = []\n",
    "for impath in allfiles_class:\n",
    "    img = plt.imread(impath)\n",
    "    is_diff.append(np.sum(img != img[0,0,0])!=0)\n",
    "print(time()-start)"
   ]
  },
  {
   "cell_type": "code",
   "execution_count": null,
   "metadata": {},
   "outputs": [],
   "source": [
    "from time import time\n",
    "start = time()\n",
    "is_diff = []\n",
    "for impath in allfiles_class:\n",
    "    img = plt.imread(impath)\n",
    "    #is_diff.append(np.sum(img != img[0,0,0])!=0)\n",
    "print(time()-start)"
   ]
  },
  {
   "cell_type": "code",
   "execution_count": 17,
   "metadata": {},
   "outputs": [],
   "source": [
    "is_diff = []\n",
    "for impath in allfiles_class:\n",
    "    img = plt.imread(impath)\n",
    "    is_diff.append(np.sum(img != img[0,0,0])!=0)"
   ]
  },
  {
   "cell_type": "code",
   "execution_count": 24,
   "metadata": {},
   "outputs": [],
   "source": [
    "class_diffs = np.asarray(allfiles_class)[np.where(is_diff)]"
   ]
  },
  {
   "cell_type": "code",
   "execution_count": 60,
   "metadata": {},
   "outputs": [],
   "source": [
    "all_coords = np.asarray([[int(a) for a in re.findall(\"\\d+\",name)] for name in class_diffs])\n",
    "\n",
    "xplus = all_coords+np.asarray([1,0])\n",
    "xmin = all_coords-np.asarray([1,0])\n",
    "yplus = all_coords+np.asarray([0,1])\n",
    "ymin = all_coords-np.asarray([0,1])\n",
    "\n",
    "extended = np.append(all_coords,xplus,0)\n",
    "extended = np.append(extended,xmin,0)\n",
    "extended = np.append(extended,yplus,0)\n",
    "extended = np.append(extended,ymin,0)"
   ]
  },
  {
   "cell_type": "code",
   "execution_count": 78,
   "metadata": {},
   "outputs": [],
   "source": [
    "uniq_coord_str = np.unique([str(a[0])+\"_\"+str(a[1]) for a in extended])\n",
    "uniq_coords = [[int(b[0]),int(b[1])] for b in [a.split(\"_\") for a in uniq_coord_str]]"
   ]
  },
  {
   "cell_type": "code",
   "execution_count": 87,
   "metadata": {},
   "outputs": [],
   "source": [
    "#Flat format \"Tile_+'x'_+'y'_image.png\"\n",
    "#Class format \"Tile_+'x'_+'y'_class.png\"\n",
    "#Depth format \"Tile_+'x'_+'y'_depth.png\"\n",
    "flats_ext_path = [join(b_path,\"Tile_+\"+str(x)+\"_+\"+str(y)+\"_image.png\") for x,y in uniq_coords]\n",
    "classes_ext_path = [join(b_path,\"Tile_+\"+str(x)+\"_+\"+str(y)+\"_class.png\") for x,y in uniq_coords]\n",
    "depths_ext_path = [join(b_path,\"Tile_+\"+str(x)+\"_+\"+str(y)+\"_depth.png\") for x,y in uniq_coords]"
   ]
  },
  {
   "cell_type": "code",
   "execution_count": 94,
   "metadata": {},
   "outputs": [
    {
     "name": "stdout",
     "output_type": "stream",
     "text": [
      "There are 147 4k images, with equivalent 256 images: 37632\n"
     ]
    }
   ],
   "source": [
    "num_4k = len(uniq_coords)\n",
    "num_256 = int(num_4k*(4096/256)*(4096/256))\n",
    "print(\"There are\",num_4k,\"4k images, with equivalent 256 images:\",num_256)"
   ]
  },
  {
   "cell_type": "code",
   "execution_count": null,
   "metadata": {},
   "outputs": [],
   "source": []
  }
 ],
 "metadata": {
  "kernelspec": {
   "display_name": "Python 3",
   "language": "python",
   "name": "python3"
  },
  "language_info": {
   "codemirror_mode": {
    "name": "ipython",
    "version": 3
   },
   "file_extension": ".py",
   "mimetype": "text/x-python",
   "name": "python",
   "nbconvert_exporter": "python",
   "pygments_lexer": "ipython3",
   "version": "3.8.5"
  }
 },
 "nbformat": 4,
 "nbformat_minor": 4
}
