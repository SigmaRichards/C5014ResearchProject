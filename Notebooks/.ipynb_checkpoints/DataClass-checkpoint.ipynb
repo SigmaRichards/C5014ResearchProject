{
 "cells": [
  {
   "cell_type": "code",
   "execution_count": 97,
   "metadata": {},
   "outputs": [],
   "source": [
    "from os import listdir\n",
    "from os.path import isfile, isdir, join\n",
    "from matplotlib import pyplot as plt\n",
    "import numpy as np\n",
    "import re\n",
    "\n",
    "class DataLoader:\n",
    "    def __init__(self):\n",
    "        self.base_path = None\n",
    "        self.flatfiles = None\n",
    "        self.depthfiles = None\n",
    "        self.classfiles = None\n",
    "        self.isParsed = False\n",
    "        self.isExtended = False\n",
    "    \n",
    "    def _load_all_imgs(self, p_list):\n",
    "        all_imgs = np.asarray([plt.imread(a) for a in p_list])\n",
    "        return all_imgs\n",
    "    \n",
    "    def _is_biclass(self,imgs):\n",
    "        #np.any seems to be slow, \n",
    "        #however imread accounts for 92%\n",
    "        #of the time of this function\n",
    "        is_diff = []\n",
    "        for impath in imgs:\n",
    "            img = plt.imread(impath)\n",
    "            is_diff.append(np.any(img != img[0,0,0]))\n",
    "        return is_diff\n",
    "    \n",
    "    def _coord_extend(self,coords):\n",
    "        ext = coords\n",
    "        ext = np.append(ext,coords+np.asarray([1,0]),0)\n",
    "        ext = np.append(ext,coords-np.asarray([1,0]),0)\n",
    "        ext = np.append(ext,coords+np.asarray([0,1]),0)\n",
    "        ext = np.append(ext,coords-np.asarray([0,1]),0)\n",
    "        \n",
    "        uniq_coord_str = np.unique([str(a[0])+\"_\"+str(a[1]) for a in ext])\n",
    "        uniq_coords = [[int(b[0]),int(b[1])] for b in [a.split(\"_\") for a in uniq_coord_str]]\n",
    "        return uniq_coords\n",
    "    \n",
    "    def get_data(self,ftype = \"flat\",indices = []):\n",
    "        if ftype == \"flat\":\n",
    "            clist = np.asarray(self.flatfiles)\n",
    "        elif ftype == \"class\":\n",
    "            clist = np.asarray(self.classfiles)\n",
    "        elif ftype == \"depth\":\n",
    "            clist = np.asarray(self.depthfiles)\n",
    "        else:\n",
    "            print(\"Err: Please set valid type: 'flat','class' or 'depth'\")\n",
    "            return\n",
    "        \n",
    "        if len(indices)!=0:\n",
    "            clist = clist[indices]\n",
    "        \n",
    "        out = np.asarray([plt.imread(cimg) for cimg in clist])\n",
    "        return out\n",
    "    \n",
    "    def get_files_from_folder(self, path, ftype=\"\"):\n",
    "        allfiles = [join(path, f) for f in listdir(path) if isfile(join(path, f))]\n",
    "        out = [f for f in allfiles if (f.find(ftype) != -1)]\n",
    "        return out\n",
    "    \n",
    "    def load_std_folder(self, path):\n",
    "        #Expectation that folder has 3 subdirectories\n",
    "        # - flat, depth, class\n",
    "        #Looking for data with .png types\n",
    "        test = isdir(join(path,\"flat\")) & isdir(join(path,\"depth\")) & isdir(join(path,\"class\"))\n",
    "        \n",
    "        if not test:\n",
    "            print(\"Err: Path given does not follow std structure\")\n",
    "            return\n",
    "        \n",
    "        self.flatfiles = self.get_files_from_folder(join(path,\"flat\"),\".png\")\n",
    "        self.depthfiles = self.get_files_from_folder(join(path,\"depth\"),\".png\")\n",
    "        self.classfiles = self.get_files_from_folder(join(path,\"class\"),\".png\")\n",
    "        self.base_path=path\n",
    "    \n",
    "    def parse_biclass(self):\n",
    "        if(self.classfiles == None):\n",
    "            print(\"Err: No class paths: cannot check biclass\")\n",
    "            return False\n",
    "        \n",
    "        if(self.isParsed):\n",
    "            print(\"Err: Classes already parsed\")\n",
    "            return False\n",
    "        \n",
    "        is_biclass = self._is_biclass(self.classfiles)\n",
    "        \n",
    "        self.isParsed = True\n",
    "        self.classfiles = np.asarray(self.classfiles)[np.where(is_biclass)]\n",
    "        #Assuming same order as classfiles\n",
    "        self.depthfiles = np.asarray(self.depthfiles)[np.where(is_biclass)]\n",
    "        self.flatfiles = np.asarray(self.flatfiles)[np.where(is_biclass)]\n",
    "    \n",
    "    def extend_parsed(self,d_ext = False):\n",
    "        if not self.isParsed:\n",
    "            print(\"Err: Has not been parsed yet\")\n",
    "            return\n",
    "        if self.isExtended and not d_ext:\n",
    "            print(\"Already extended. If you wish to extend again set 'd_ext=True'\")\n",
    "            return\n",
    "        \n",
    "        filenames = [path.split(\"/\")[-1] for path in self.classfiles]\n",
    "        all_coords = np.asarray([[int(a) for a in re.findall(\"\\d+\",name)] for name in filenames])\n",
    "        ext_coords = self._coord_extend(all_coords)\n",
    "        \n",
    "        self.isExtended = True\n",
    "        \n",
    "        flats_ext_path = [\"Tile_+\"+str(x)+\"_+\"+str(y)+\"_image.png\" for x,y in ext_coords]\n",
    "        f_full_path = [join(self.base_path,\"flat\",path) for path in flats_ext_path]\n",
    "        self.flatfiles = [a for a in f_full_path if isfile(a)]\n",
    "        \n",
    "        classes_ext_path = [\"Tile_+\"+str(x)+\"_+\"+str(y)+\"_class.png\" for x,y in ext_coords]\n",
    "        c_full_path = [join(self.base_path,\"class\",path) for path in classes_ext_path]\n",
    "        self.classfiles = [a for a in c_full_path if isfile(a)]\n",
    "        \n",
    "        depths_ext_path = [\"Tile_+\"+str(x)+\"_+\"+str(y)+\"_depth.png\" for x,y in ext_coords]\n",
    "        d_full_path = [join(self.base_path,\"depth\",path) for path in depths_ext_path]\n",
    "        self.depthfiles = [a for a in d_full_path if isfile(a)]\n"
   ]
  },
  {
   "cell_type": "code",
   "execution_count": 96,
   "metadata": {},
   "outputs": [
    {
     "name": "stdout",
     "output_type": "stream",
     "text": [
      "Err: Path given does not follow std structure\n"
     ]
    }
   ],
   "source": [
    "newDL = DataLoader()\n",
    "newDL.load_std_folder(\"/home/danielh/Documents/School/CITS5014 (git)/Data/\")"
   ]
  },
  {
   "cell_type": "code",
   "execution_count": 90,
   "metadata": {},
   "outputs": [
    {
     "data": {
      "text/plain": [
       "True"
      ]
     },
     "execution_count": 90,
     "metadata": {},
     "output_type": "execute_result"
    }
   ],
   "source": [
    "from os.path import isdir\n",
    "isdir(\"RGBD_Conversion\")"
   ]
  },
  {
   "cell_type": "code",
   "execution_count": null,
   "metadata": {},
   "outputs": [],
   "source": []
  }
 ],
 "metadata": {
  "kernelspec": {
   "display_name": "Python 3",
   "language": "python",
   "name": "python3"
  },
  "language_info": {
   "codemirror_mode": {
    "name": "ipython",
    "version": 3
   },
   "file_extension": ".py",
   "mimetype": "text/x-python",
   "name": "python",
   "nbconvert_exporter": "python",
   "pygments_lexer": "ipython3",
   "version": "3.8.5"
  }
 },
 "nbformat": 4,
 "nbformat_minor": 4
}
