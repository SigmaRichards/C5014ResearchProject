{
 "cells": [
  {
   "cell_type": "code",
   "execution_count": null,
   "metadata": {},
   "outputs": [],
   "source": [
    "import open3d as o3d\n",
    "import numpy as np\n",
    "import copy"
   ]
  },
  {
   "cell_type": "code",
   "execution_count": null,
   "metadata": {},
   "outputs": [],
   "source": [
    "TilePath = \"../../Data/Tiles/\"\n",
    "detPath = \"../../Data/detrital_mesh.obj\""
   ]
  },
  {
   "cell_type": "code",
   "execution_count": null,
   "metadata": {},
   "outputs": [],
   "source": [
    "from os import listdir\n",
    "from os.path import isfile, join\n",
    "\n",
    "allfiles = [f for f in listdir(TilePath) if isfile(join(TilePath, f))]\n",
    "allObjNames = [f for f in allfiles if (f.find(\".obj\") != -1)]"
   ]
  },
  {
   "cell_type": "code",
   "execution_count": null,
   "metadata": {},
   "outputs": [],
   "source": [
    "detMesh = o3d.io.read_triangle_mesh(detPath)\n",
    "detMesh.paint_uniform_color([0,0,0])"
   ]
  },
  {
   "cell_type": "code",
   "execution_count": null,
   "metadata": {},
   "outputs": [],
   "source": [
    "mesh = o3d.io.read_triangle_mesh(TilePath+allObjNames[0],True)\n",
    "mesh.paint_uniform_color([1,1,1])\n",
    "\n",
    "backMesh = copy.deepcopy(detMesh)\n",
    "\n",
    "theta = -0.3233476477503846 #This is the theta we need... just trust me\n",
    "c_center = mesh.get_center()\n",
    "\n",
    "mesh.rotate(mesh.get_rotation_matrix_from_xyz((0, 0, theta)),center=c_center)\n",
    "backMesh.rotate(mesh.get_rotation_matrix_from_xyz((0, 0, theta)),center=c_center)\n",
    "\n",
    "vis = o3d.visualization.Visualizer()\n",
    "vis.create_window(width=1080,height=1080)#Max depth resolution in 1080, for some reason won't render properly for any higher\n",
    "vis.add_geometry(mesh)\n",
    "ctr = vis.get_view_control()\n",
    "ctr.set_zoom(0.5)\n",
    "phcam = ctr.convert_to_pinhole_camera_parameters()\n",
    "vis.add_geometry(backMesh)\n",
    "ctr.convert_from_pinhole_camera_parameters(phcam)\n",
    "ctr.change_field_of_view(step=-13)\n",
    "ctr.set_zoom(0.00785)\n",
    "vis.run()\n",
    "\n",
    "vis.destroy_window()\n",
    "del ctr\n",
    "del vis"
   ]
  },
  {
   "cell_type": "code",
   "execution_count": null,
   "metadata": {},
   "outputs": [],
   "source": [
    "for a in range(len(allObjNames)):\n",
    "    print(allObjNames[a])\n",
    "    mesh = o3d.io.read_triangle_mesh(TilePath+allObjNames[a],True)\n",
    "    mesh.paint_uniform_color([1,1,1])\n",
    "    \n",
    "    backMesh = copy.deepcopy(detMesh)\n",
    "    \n",
    "    theta = -0.3233476477503846 #This is the theta we need... just trust me\n",
    "    c_center = mesh.get_center()\n",
    "    \n",
    "    mesh.rotate(mesh.get_rotation_matrix_from_xyz((0, 0, theta)),center=c_center)\n",
    "    backMesh.rotate(mesh.get_rotation_matrix_from_xyz((0, 0, theta)),center=c_center)\n",
    "    \n",
    "    \n",
    "    vis = o3d.visualization.Visualizer()\n",
    "    vis\n",
    "    vis.create_window(width=1080,height=1080)#Max depth resolution in 1080, for some reason won't render properly for any higher\n",
    "    vis.add_geometry(mesh)\n",
    "    ctr = vis.get_view_control()\n",
    "    ctr.set_zoom(0.5)\n",
    "    phcam = ctr.convert_to_pinhole_camera_parameters()\n",
    "    vis.add_geometry(backMesh)\n",
    "    ctr.convert_from_pinhole_camera_parameters(phcam)\n",
    "    ctr.change_field_of_view(step=-13)\n",
    "    ctr.set_zoom(0.00785)\n",
    "    vis.run()\n",
    "    \n",
    "    vis.destroy_window()\n",
    "    del ctr\n",
    "    del vis"
   ]
  },
  {
   "cell_type": "code",
   "execution_count": 1,
   "metadata": {},
   "outputs": [
    {
     "name": "stderr",
     "output_type": "stream",
     "text": [
      "  0%|          | 0/766 [00:02<?, ?it/s]\n"
     ]
    },
    {
     "ename": "ValueError",
     "evalue": "Expected 3-dimensional array, got 1",
     "output_type": "error",
     "traceback": [
      "\u001b[0;31m---------------------------------------------------------------------------\u001b[0m",
      "\u001b[0;31mValueError\u001b[0m                                Traceback (most recent call last)",
      "\u001b[0;32m<ipython-input-1-296fda4f18fc>\u001b[0m in \u001b[0;36m<module>\u001b[0;34m\u001b[0m\n\u001b[1;32m     62\u001b[0m \u001b[0;34m\u001b[0m\u001b[0m\n\u001b[1;32m     63\u001b[0m     \u001b[0mvis\u001b[0m\u001b[0;34m.\u001b[0m\u001b[0mregister_animation_callback\u001b[0m\u001b[0;34m(\u001b[0m\u001b[0mmove_forward\u001b[0m\u001b[0;34m)\u001b[0m\u001b[0;34m\u001b[0m\u001b[0;34m\u001b[0m\u001b[0m\n\u001b[0;32m---> 64\u001b[0;31m     \u001b[0mvis\u001b[0m\u001b[0;34m.\u001b[0m\u001b[0mrun\u001b[0m\u001b[0;34m(\u001b[0m\u001b[0;34m)\u001b[0m\u001b[0;34m\u001b[0m\u001b[0;34m\u001b[0m\u001b[0m\n\u001b[0m\u001b[1;32m     65\u001b[0m     \u001b[0;32mdel\u001b[0m \u001b[0mctr\u001b[0m\u001b[0;34m\u001b[0m\u001b[0;34m\u001b[0m\u001b[0m\n\u001b[1;32m     66\u001b[0m     \u001b[0;32mdel\u001b[0m \u001b[0mvis\u001b[0m\u001b[0;34m\u001b[0m\u001b[0;34m\u001b[0m\u001b[0m\n",
      "\u001b[0;32m<ipython-input-1-296fda4f18fc>\u001b[0m in \u001b[0;36mmove_forward\u001b[0;34m(vis)\u001b[0m\n\u001b[1;32m     27\u001b[0m \u001b[0;34m\u001b[0m\u001b[0m\n\u001b[1;32m     28\u001b[0m     \u001b[0mimg\u001b[0m \u001b[0;34m=\u001b[0m \u001b[0mvis\u001b[0m\u001b[0;34m.\u001b[0m\u001b[0mcapture_screen_image\u001b[0m\u001b[0;34m(\u001b[0m\u001b[0mi_name\u001b[0m\u001b[0;34m,\u001b[0m\u001b[0;32mTrue\u001b[0m\u001b[0;34m)\u001b[0m\u001b[0;34m\u001b[0m\u001b[0;34m\u001b[0m\u001b[0m\n\u001b[0;32m---> 29\u001b[0;31m     \u001b[0mplt\u001b[0m\u001b[0;34m.\u001b[0m\u001b[0mimsave\u001b[0m\u001b[0;34m(\u001b[0m\u001b[0mi_name\u001b[0m\u001b[0;34m,\u001b[0m\u001b[0mimg\u001b[0m\u001b[0;34m)\u001b[0m\u001b[0;34m\u001b[0m\u001b[0;34m\u001b[0m\u001b[0m\n\u001b[0m\u001b[1;32m     30\u001b[0m     \u001b[0mvis\u001b[0m\u001b[0;34m.\u001b[0m\u001b[0mregister_animation_callback\u001b[0m\u001b[0;34m(\u001b[0m\u001b[0;32mNone\u001b[0m\u001b[0;34m)\u001b[0m\u001b[0;34m\u001b[0m\u001b[0;34m\u001b[0m\u001b[0m\n\u001b[1;32m     31\u001b[0m     \u001b[0mvis\u001b[0m\u001b[0;34m.\u001b[0m\u001b[0mdestroy_window\u001b[0m\u001b[0;34m(\u001b[0m\u001b[0;34m)\u001b[0m\u001b[0;34m\u001b[0m\u001b[0;34m\u001b[0m\u001b[0m\n",
      "\u001b[0;32m/usr/lib/python3/dist-packages/matplotlib/pyplot.py\u001b[0m in \u001b[0;36mimsave\u001b[0;34m(fname, arr, **kwargs)\u001b[0m\n\u001b[1;32m   2131\u001b[0m \u001b[0;34m@\u001b[0m\u001b[0mdocstring\u001b[0m\u001b[0;34m.\u001b[0m\u001b[0mcopy\u001b[0m\u001b[0;34m(\u001b[0m\u001b[0mmatplotlib\u001b[0m\u001b[0;34m.\u001b[0m\u001b[0mimage\u001b[0m\u001b[0;34m.\u001b[0m\u001b[0mimsave\u001b[0m\u001b[0;34m)\u001b[0m\u001b[0;34m\u001b[0m\u001b[0;34m\u001b[0m\u001b[0m\n\u001b[1;32m   2132\u001b[0m \u001b[0;32mdef\u001b[0m \u001b[0mimsave\u001b[0m\u001b[0;34m(\u001b[0m\u001b[0mfname\u001b[0m\u001b[0;34m,\u001b[0m \u001b[0marr\u001b[0m\u001b[0;34m,\u001b[0m \u001b[0;34m**\u001b[0m\u001b[0mkwargs\u001b[0m\u001b[0;34m)\u001b[0m\u001b[0;34m:\u001b[0m\u001b[0;34m\u001b[0m\u001b[0;34m\u001b[0m\u001b[0m\n\u001b[0;32m-> 2133\u001b[0;31m     \u001b[0;32mreturn\u001b[0m \u001b[0mmatplotlib\u001b[0m\u001b[0;34m.\u001b[0m\u001b[0mimage\u001b[0m\u001b[0;34m.\u001b[0m\u001b[0mimsave\u001b[0m\u001b[0;34m(\u001b[0m\u001b[0mfname\u001b[0m\u001b[0;34m,\u001b[0m \u001b[0marr\u001b[0m\u001b[0;34m,\u001b[0m \u001b[0;34m**\u001b[0m\u001b[0mkwargs\u001b[0m\u001b[0;34m)\u001b[0m\u001b[0;34m\u001b[0m\u001b[0;34m\u001b[0m\u001b[0m\n\u001b[0m\u001b[1;32m   2134\u001b[0m \u001b[0;34m\u001b[0m\u001b[0m\n\u001b[1;32m   2135\u001b[0m \u001b[0;34m\u001b[0m\u001b[0m\n",
      "\u001b[0;32m/usr/lib/python3/dist-packages/matplotlib/image.py\u001b[0m in \u001b[0;36mimsave\u001b[0;34m(fname, arr, vmin, vmax, cmap, format, origin, dpi)\u001b[0m\n\u001b[1;32m   1496\u001b[0m         \u001b[0mrgba\u001b[0m \u001b[0;34m=\u001b[0m \u001b[0msm\u001b[0m\u001b[0;34m.\u001b[0m\u001b[0mto_rgba\u001b[0m\u001b[0;34m(\u001b[0m\u001b[0marr\u001b[0m\u001b[0;34m,\u001b[0m \u001b[0mbytes\u001b[0m\u001b[0;34m=\u001b[0m\u001b[0;32mTrue\u001b[0m\u001b[0;34m)\u001b[0m\u001b[0;34m\u001b[0m\u001b[0;34m\u001b[0m\u001b[0m\n\u001b[1;32m   1497\u001b[0m         \u001b[0;32mif\u001b[0m \u001b[0mformat\u001b[0m \u001b[0;34m==\u001b[0m \u001b[0;34m\"png\"\u001b[0m\u001b[0;34m:\u001b[0m\u001b[0;34m\u001b[0m\u001b[0;34m\u001b[0m\u001b[0m\n\u001b[0;32m-> 1498\u001b[0;31m             \u001b[0m_png\u001b[0m\u001b[0;34m.\u001b[0m\u001b[0mwrite_png\u001b[0m\u001b[0;34m(\u001b[0m\u001b[0mrgba\u001b[0m\u001b[0;34m,\u001b[0m \u001b[0mfname\u001b[0m\u001b[0;34m,\u001b[0m \u001b[0mdpi\u001b[0m\u001b[0;34m=\u001b[0m\u001b[0mdpi\u001b[0m\u001b[0;34m)\u001b[0m\u001b[0;34m\u001b[0m\u001b[0;34m\u001b[0m\u001b[0m\n\u001b[0m\u001b[1;32m   1499\u001b[0m         \u001b[0;32melse\u001b[0m\u001b[0;34m:\u001b[0m\u001b[0;34m\u001b[0m\u001b[0;34m\u001b[0m\u001b[0m\n\u001b[1;32m   1500\u001b[0m             \u001b[0;32mtry\u001b[0m\u001b[0;34m:\u001b[0m\u001b[0;34m\u001b[0m\u001b[0;34m\u001b[0m\u001b[0m\n",
      "\u001b[0;31mValueError\u001b[0m: Expected 3-dimensional array, got 1"
     ]
    }
   ],
   "source": [
    "#This script has not been formatted for external use\n",
    "\n",
    "import open3d as o3d\n",
    "import numpy as np\n",
    "import copy\n",
    "import matplotlib.pyplot as plt\n",
    "\n",
    "#Data Path\n",
    "detPath = \"../../Data/detrital_mesh.obj\"\n",
    "path = \"../../Data/Tiles/\"\n",
    "path_out = \"out/\"\n",
    "\n",
    "from os import listdir\n",
    "from os.path import isfile, join\n",
    "\n",
    "allfiles = [f for f in listdir(path) if isfile(join(path, f))]\n",
    "allObjNames = [f for f in allfiles if (f.find(\".obj\") != -1)]\n",
    "base_name = [allObjNames[a][:-4] for a in range(len(allObjNames))]\n",
    "\n",
    "detMesh = o3d.io.read_triangle_mesh(detPath)\n",
    "detMesh.paint_uniform_color([0,0,0])\n",
    "\n",
    "\n",
    "\n",
    "def move_forward(vis):\n",
    "    i_name = path_out + base_name[index] + \"_class.png\"\n",
    "    \n",
    "    vis.capture_screen_image(i_name,True)\n",
    "    vis.register_animation_callback(None)\n",
    "    vis.destroy_window()\n",
    "    return False\n",
    "\n",
    "#Suppressing output\n",
    "o3d.utility.set_verbosity_level(o3d.utility.VerbosityLevel.Error)\n",
    "\n",
    "from tqdm import tqdm\n",
    "\n",
    "for a in tqdm(range(len(allObjNames))):\n",
    "    index = a\n",
    "    mesh = o3d.io.read_triangle_mesh(path + allObjNames[index],True)\n",
    "    mesh.paint_uniform_color([1,1,1])\n",
    "    \n",
    "    backMesh = copy.deepcopy(detMesh)\n",
    "    \n",
    "    theta = -0.3233476477503846 #This is the theta we need... just trust me\n",
    "    c_center = mesh.get_center()\n",
    "    \n",
    "    mesh.rotate(mesh.get_rotation_matrix_from_xyz((0, 0, theta)),center=c_center)\n",
    "    backMesh.rotate(mesh.get_rotation_matrix_from_xyz((0, 0, theta)),center=c_center)\n",
    "    \n",
    "    vis = o3d.visualization.Visualizer()\n",
    "    vis.create_window(width=4096,height=4096,visible=False)#Max depth resolution in 1080, for some reason won't render properly for any higher\n",
    "    vis.add_geometry(mesh)\n",
    "    ctr = vis.get_view_control()\n",
    "    ctr.set_zoom(0.5)\n",
    "    phcam = ctr.convert_to_pinhole_camera_parameters()\n",
    "    vis.add_geometry(backMesh)\n",
    "    ctr.convert_from_pinhole_camera_parameters(phcam)\n",
    "    ctr.change_field_of_view(step=-13)\n",
    "    ctr.set_zoom(0.00785)\n",
    "    \n",
    "    vis.register_animation_callback(move_forward)\n",
    "    vis.run()\n",
    "    del ctr\n",
    "    del vis\n"
   ]
  },
  {
   "cell_type": "code",
   "execution_count": 2,
   "metadata": {},
   "outputs": [
    {
     "ename": "NameError",
     "evalue": "name 'img' is not defined",
     "output_type": "error",
     "traceback": [
      "\u001b[0;31m---------------------------------------------------------------------------\u001b[0m",
      "\u001b[0;31mNameError\u001b[0m                                 Traceback (most recent call last)",
      "\u001b[0;32m<ipython-input-2-77a7949ba908>\u001b[0m in \u001b[0;36m<module>\u001b[0;34m\u001b[0m\n\u001b[0;32m----> 1\u001b[0;31m \u001b[0mimg\u001b[0m\u001b[0;34m\u001b[0m\u001b[0;34m\u001b[0m\u001b[0m\n\u001b[0m",
      "\u001b[0;31mNameError\u001b[0m: name 'img' is not defined"
     ]
    }
   ],
   "source": [
    "img"
   ]
  },
  {
   "cell_type": "code",
   "execution_count": null,
   "metadata": {},
   "outputs": [],
   "source": []
  }
 ],
 "metadata": {
  "kernelspec": {
   "display_name": "Python 3",
   "language": "python",
   "name": "python3"
  },
  "language_info": {
   "codemirror_mode": {
    "name": "ipython",
    "version": 3
   },
   "file_extension": ".py",
   "mimetype": "text/x-python",
   "name": "python",
   "nbconvert_exporter": "python",
   "pygments_lexer": "ipython3",
   "version": "3.8.5"
  }
 },
 "nbformat": 4,
 "nbformat_minor": 4
}
