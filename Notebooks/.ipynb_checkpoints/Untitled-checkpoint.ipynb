{
 "cells": [
  {
   "cell_type": "code",
   "execution_count": 2,
   "metadata": {},
   "outputs": [],
   "source": [
    "blitz = [a for a in range(5)]\n",
    "catch = [a for a in range(5)]\n",
    "rolls = [a for a in range(5)]\n",
    "\n",
    "comp = []\n",
    "\n",
    "for roll in rolls:\n",
    "    for blitzer in blitz:\n",
    "        for catcher in catch:\n",
    "            line = 11-blitzer - catcher\n",
    "            value = line*60 + blitzer*110 + catcher * 80 + roll*50\n",
    "            if value <=1000:\n",
    "                comp.append([line,blitz,catch,roll])"
   ]
  },
  {
   "cell_type": "code",
   "execution_count": 3,
   "metadata": {},
   "outputs": [
    {
     "data": {
      "text/plain": [
       "104"
      ]
     },
     "execution_count": 3,
     "metadata": {},
     "output_type": "execute_result"
    }
   ],
   "source": [
    "better = []\n",
    "for a in comp:\n",
    "    for b in comp:\n",
    "        [a[v]>=b[v] for v in range(len(a))]"
   ]
  },
  {
   "cell_type": "code",
   "execution_count": null,
   "metadata": {},
   "outputs": [],
   "source": []
  }
 ],
 "metadata": {
  "kernelspec": {
   "display_name": "Python 3",
   "language": "python",
   "name": "python3"
  },
  "language_info": {
   "codemirror_mode": {
    "name": "ipython",
    "version": 3
   },
   "file_extension": ".py",
   "mimetype": "text/x-python",
   "name": "python",
   "nbconvert_exporter": "python",
   "pygments_lexer": "ipython3",
   "version": "3.8.5"
  }
 },
 "nbformat": 4,
 "nbformat_minor": 4
}
