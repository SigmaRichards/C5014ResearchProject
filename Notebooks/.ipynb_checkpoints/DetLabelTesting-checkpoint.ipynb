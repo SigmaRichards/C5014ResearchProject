{
 "cells": [
  {
   "cell_type": "code",
   "execution_count": 1,
   "metadata": {},
   "outputs": [],
   "source": [
    "import copy\n",
    "import open3d as o3d\n",
    "import numpy as np\n",
    "import matplotlib.pyplot as plt"
   ]
  },
  {
   "cell_type": "code",
   "execution_count": 2,
   "metadata": {},
   "outputs": [],
   "source": [
    "#Data Path\n",
    "path = \"../../Data/Tiles/\"\n",
    "detPath = path+\"../detrital_mesh.obj\"\n",
    "path_out = \"out/\"\n",
    "\n",
    "from os import listdir\n",
    "from os.path import isfile, join\n",
    "\n",
    "allfiles = [f for f in listdir(path) if isfile(join(path, f))]\n",
    "allObjNames = [f for f in allfiles if (f.find(\".obj\") != -1)]\n",
    "base_name = [allObjNames[a][:-4] for a in range(len(allObjNames))]"
   ]
  },
  {
   "cell_type": "code",
   "execution_count": 3,
   "metadata": {},
   "outputs": [
    {
     "data": {
      "text/plain": [
       "TriangleMesh with 8409 points and 2803 triangles."
      ]
     },
     "execution_count": 3,
     "metadata": {},
     "output_type": "execute_result"
    }
   ],
   "source": [
    "detMesh = o3d.io.read_triangle_mesh(detPath)\n",
    "detMesh.paint_uniform_color([0,0,0])"
   ]
  },
  {
   "cell_type": "code",
   "execution_count": 40,
   "metadata": {},
   "outputs": [],
   "source": [
    "def move_forward(vis):\n",
    "    i_name = path_out + base_name[index] + \"_class.png\"\n",
    "    \n",
    "    vis.capture_screen_image(i_name,True)\n",
    "    vis.register_animation_callback(None)\n",
    "    #vis.destroy_window()\n",
    "    return False"
   ]
  },
  {
   "cell_type": "code",
   "execution_count": 33,
   "metadata": {},
   "outputs": [
    {
     "name": "stderr",
     "output_type": "stream",
     "text": [
      "100%|██████████| 766/766 [05:58<00:00,  2.13it/s]\n"
     ]
    }
   ],
   "source": [
    "allSize = []\n",
    "from tqdm import tqdm\n",
    "for a in tqdm(range(len(allObjNames))):\n",
    "    index = a\n",
    "    mesh = o3d.io.read_triangle_mesh(path + allObjNames[index],False)\n",
    "    m = mesh.get_max_bound()\n",
    "    c = mesh.get_center()\n",
    "    mm = mesh.get_min_bound()\n",
    "    a1 = m-c\n",
    "    b1 = c-mm\n",
    "    allSize.append((a1+b1)[0:2])\n",
    "allSize = np.asarray(allSize)"
   ]
  },
  {
   "cell_type": "code",
   "execution_count": 34,
   "metadata": {},
   "outputs": [
    {
     "data": {
      "text/plain": [
       "array([[253.2734375, 253.2734375],\n",
       "       [253.265625 , 253.265625 ],\n",
       "       [253.265625 , 253.265625 ],\n",
       "       ...,\n",
       "       [253.265625 , 253.265625 ],\n",
       "       [253.2734375, 253.2734375],\n",
       "       [253.265625 , 253.265625 ]])"
      ]
     },
     "execution_count": 34,
     "metadata": {},
     "output_type": "execute_result"
    }
   ],
   "source": [
    "allSize"
   ]
  },
  {
   "cell_type": "code",
   "execution_count": 57,
   "metadata": {},
   "outputs": [],
   "source": [
    "#5 is a bad one\n",
    "index=5\n",
    "mesh = o3d.io.read_triangle_mesh(path + allObjNames[index],False)\n",
    "mesh.paint_uniform_color([1,1,1])\n",
    "\n",
    "backMesh = copy.deepcopy(detMesh)\n",
    "\n",
    "theta = -0.3233476477503846 #This is the theta we need... just trust me\n",
    "c_center = backMesh.get_center()    \n",
    "mesh.rotate(mesh.get_rotation_matrix_from_xyz((0, 0, theta)),center=c_center)\n",
    "backMesh.rotate(mesh.get_rotation_matrix_from_xyz((0, 0, theta)),center=c_center) \n",
    "\n",
    "vis = o3d.visualization.Visualizer()\n",
    "vis.create_window(width=256,height=256,visible=True)#Max depth resolution in 1080, for some reason won't render properly for any higher\n",
    "\n",
    "vis.add_geometry(mesh)\n",
    "ctr = vis.get_view_control()\n",
    "ctr.set_zoom(0.5)\n",
    "\n",
    "vis.add_geometry(backMesh,reset_bounding_box=False)\n",
    "\n",
    "ctr.change_field_of_view(step=-13)\n",
    "\n",
    "opt = vis.get_render_option()\n",
    "opt.background_color = np.asarray([1, 0, 0]) #setting background to red\n",
    "\n",
    "vis.register_animation_callback(move_forward)\n",
    "vis.run()\n",
    "\n",
    "#Cleanup\n",
    "del opt\n",
    "del ctr\n",
    "del vis"
   ]
  },
  {
   "cell_type": "code",
   "execution_count": 28,
   "metadata": {},
   "outputs": [
    {
     "data": {
      "text/plain": [
       "5"
      ]
     },
     "execution_count": 28,
     "metadata": {},
     "output_type": "execute_result"
    }
   ],
   "source": [
    "index"
   ]
  },
  {
   "cell_type": "code",
   "execution_count": 53,
   "metadata": {},
   "outputs": [
    {
     "data": {
      "text/plain": [
       "14575.175871839543"
      ]
     },
     "execution_count": 53,
     "metadata": {},
     "output_type": "execute_result"
    }
   ],
   "source": [
    "m = backMesh.get_max_bound()\n",
    "c = mesh.get_center()\n",
    "mm = mesh.get_min_bound()\n",
    "a1 = m-c\n",
    "b1 = c-mm\n",
    "(a1+b1)[0]"
   ]
  },
  {
   "cell_type": "code",
   "execution_count": null,
   "metadata": {},
   "outputs": [],
   "source": []
  }
 ],
 "metadata": {
  "kernelspec": {
   "display_name": "Python 3",
   "language": "python",
   "name": "python3"
  },
  "language_info": {
   "codemirror_mode": {
    "name": "ipython",
    "version": 3
   },
   "file_extension": ".py",
   "mimetype": "text/x-python",
   "name": "python",
   "nbconvert_exporter": "python",
   "pygments_lexer": "ipython3",
   "version": "3.8.5"
  }
 },
 "nbformat": 4,
 "nbformat_minor": 4
}
