{
 "cells": [
  {
   "cell_type": "code",
   "execution_count": 12,
   "metadata": {},
   "outputs": [],
   "source": [
    "from skimage.filters import gabor_kernel\n",
    "import numpy as np\n",
    "from scipy.signal import convolve\n",
    "\n",
    "\n",
    "class GaborFeatures:\n",
    "    def __init__(self):\n",
    "        self.kernels = []\n",
    "    \n",
    "    def _log_kernels(self,kernelSize, num_orientations, num_scales):\n",
    "        meshRange = np.arange(-kernelSize/2, kernelSize/2 + kernelSize%2)\n",
    "        \n",
    "        x, y = np.meshgrid(meshRange,meshRange)\n",
    "        mid = np.where(np.logical_and(x==0,y==0))\n",
    "        \n",
    "        r = np.sqrt(x**2+y**2)\n",
    "        r[mid] = 1\n",
    "        rho = np.log2(r)\n",
    "        theta = np.arctan2(y,x)\n",
    "        \n",
    "        scales = [a for a in range(num_scales)]\n",
    "        \n",
    "        #Orientation Component\n",
    "        ts = np.asarray([[a + 0.5*((b+1)%2) for a in range(2*num_orientations)] for b in scales])\n",
    "        theta_st = np.pi*ts/num_orientations\n",
    "        \n",
    "        #I don't really know how this works but it fixes the distortion\n",
    "        costheta = np.cos(theta)\n",
    "        sintheta = np.sin(theta)\n",
    "        ds = [[sintheta * np.cos(c_angle) - costheta * np.sin(c_angle) for c_angle in c_scale] for c_scale in theta_st]  \n",
    "        dc = [[costheta * np.cos(c_angle) + sintheta * np.sin(c_angle) for c_angle in c_scale] for c_scale in theta_st]\n",
    "        dtheta = np.arctan2(ds,dc)\n",
    "        \n",
    "        sig_theta = 0.996*(np.pi/(np.sqrt(2)*num_orientations))\n",
    "        \n",
    "        orientation = np.exp(-0.5*((dtheta/sig_theta)**2))\n",
    "        \n",
    "        #Frequency Component\n",
    "        rho_s = [np.log2(kernelSize)-a for a in range(num_scales)]\n",
    "        sig_rho = 0.996*np.sqrt(2/3)\n",
    "        \n",
    "        frequency = [np.exp(-0.5*((rho-a)/sig_rho)**2) for a in rho_s]\n",
    "        \n",
    "        \n",
    "        out = []\n",
    "        for c_s in scales:\n",
    "            for c_o in range(orientation.shape[1]):\n",
    "                c_kern = frequency[c_s]*orientation[c_s,c_o]\n",
    "                c_kern[mid] = 0\n",
    "                out.append(c_kern)\n",
    "            \n",
    "        return np.asarray(out)\n",
    "        \n",
    "    \n",
    "    def add_kernels(self, thetas,bands,stds,offs):\n",
    "        kernels = []\n",
    "        for freq in freq_range:\n",
    "            for theta in theta_range:\n",
    "                for band in band_range:\n",
    "                    for std in std_range:\n",
    "                        for off in off_range:\n",
    "                            kernel = np.real(gabor_kernel(frequency = freq,theta=theta,\n",
    "                                                          bandwidth=band, n_stds = std,\n",
    "                                                          offset = off))\n",
    "                            kernels.append(kernel)\n",
    "        self.kernels.extend(vals)\n",
    "    \n",
    "    def add_log_kernels(self,kernelSize, num_orientations,num_scales):\n",
    "        vals = [a for a in self._log_kernels(kernelSize,num_orientations,num_scales)]\n",
    "        self.kernels.extend(vals)\n",
    "    \n",
    "    def convolve_kernels(self,img,layers = [\"intensity\"]):\n",
    "        obj = []\n",
    "        if \"intensity\" in layers:\n",
    "            obj.append(np.max(img,axis=2))\n",
    "        if \"red\" in layers:\n",
    "            obj.append(img[:,:,0])\n",
    "        if \"green\" in layers:\n",
    "            obj.append(img[:,:,1])\n",
    "        if \"blue\" in layers:\n",
    "            obj.append(img[:,:,2])\n",
    "        \n",
    "        out = np.zeros((img.shape[0],img.shape[1],len(obj),len(self.kernels)))\n",
    "        for i in range(len(self.kernels)):\n",
    "            for l in range(len(objs)):\n",
    "                out[:,:,l,i]=convolve(obj[l],self.kernels[i],mode=\"same\")\n",
    "        return out"
   ]
  },
  {
   "cell_type": "code",
   "execution_count": 21,
   "metadata": {},
   "outputs": [
    {
     "data": {
      "text/plain": [
       "<matplotlib.image.AxesImage at 0x7fa90b83f1f0>"
      ]
     },
     "execution_count": 21,
     "metadata": {},
     "output_type": "execute_result"
    },
    {
     "data": {
      "image/png": "[encoded data removed]",
      "text/plain": [
       "<Figure size 432x288 with 1 Axes>"
      ]
     },
     "metadata": {
      "needs_background": "light"
     },
     "output_type": "display_data"
    }
   ],
   "source": [
    "import matplotlib.pyplot as plt\n",
    "\n",
    "gf = GaborFeatures()\n",
    "\n",
    "gf.add_log_kernels(32,8,10)\n",
    "plt.imshow(np.max(gf.kernels,0))"
   ]
  },
  {
   "cell_type": "code",
   "execution_count": null,
   "metadata": {},
   "outputs": [],
   "source": []
  }
 ],
 "metadata": {
  "kernelspec": {
   "display_name": "Python 3",
   "language": "python",
   "name": "python3"
  },
  "language_info": {
   "codemirror_mode": {
    "name": "ipython",
    "version": 3
   },
   "file_extension": ".py",
   "mimetype": "text/x-python",
   "name": "python",
   "nbconvert_exporter": "python",
   "pygments_lexer": "ipython3",
   "version": "3.8.5"
  }
 },
 "nbformat": 4,
 "nbformat_minor": 4
}
