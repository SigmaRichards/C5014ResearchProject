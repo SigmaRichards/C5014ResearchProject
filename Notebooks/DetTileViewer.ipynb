{
 "cells": [
  {
   "cell_type": "code",
   "execution_count": null,
   "metadata": {},
   "outputs": [],
   "source": [
    "import open3d as o3d\n",
    "import numpy as np\n",
    "import copy"
   ]
  },
  {
   "cell_type": "code",
   "execution_count": null,
   "metadata": {},
   "outputs": [],
   "source": [
    "TilePath = \"../../Data/Tiles/\"\n",
    "detPath = \"../../Data/detrital_mesh.obj\""
   ]
  },
  {
   "cell_type": "code",
   "execution_count": null,
   "metadata": {},
   "outputs": [],
   "source": [
    "from os import listdir\n",
    "from os.path import isfile, join\n",
    "\n",
    "allfiles = [f for f in listdir(TilePath) if isfile(join(TilePath, f))]\n",
    "allObjNames = [f for f in allfiles if (f.find(\".obj\") != -1)]"
   ]
  },
  {
   "cell_type": "code",
   "execution_count": null,
   "metadata": {},
   "outputs": [],
   "source": [
    "detMesh = o3d.io.read_triangle_mesh(detPath)\n",
    "detMesh.paint_uniform_color([0,0,0])"
   ]
  },
  {
   "cell_type": "code",
   "execution_count": null,
   "metadata": {},
   "outputs": [],
   "source": [
    "mesh = o3d.io.read_triangle_mesh(TilePath+allObjNames[0],True)\n",
    "mesh.paint_uniform_color([1,1,1])\n",
    "\n",
    "backMesh = copy.deepcopy(detMesh)\n",
    "\n",
    "theta = -0.3233476477503846 #This is the theta we need... just trust me\n",
    "c_center = mesh.get_center()\n",
    "\n",
    "mesh.rotate(mesh.get_rotation_matrix_from_xyz((0, 0, theta)),center=c_center)\n",
    "backMesh.rotate(mesh.get_rotation_matrix_from_xyz((0, 0, theta)),center=c_center)\n",
    "\n",
    "vis = o3d.visualization.Visualizer()\n",
    "vis.create_window(width=1080,height=1080)#Max depth resolution in 1080, for some reason won't render properly for any higher\n",
    "vis.add_geometry(mesh)\n",
    "ctr = vis.get_view_control()\n",
    "ctr.set_zoom(0.5)\n",
    "phcam = ctr.convert_to_pinhole_camera_parameters()\n",
    "vis.add_geometry(backMesh)\n",
    "ctr.convert_from_pinhole_camera_parameters(phcam)\n",
    "ctr.change_field_of_view(step=-13)\n",
    "ctr.set_zoom(0.00785)\n",
    "vis.run()\n",
    "\n",
    "vis.destroy_window()\n",
    "del ctr\n",
    "del vis"
   ]
  },
  {
   "cell_type": "code",
   "execution_count": null,
   "metadata": {},
   "outputs": [],
   "source": [
    "for a in range(len(allObjNames)):\n",
    "    print(allObjNames[a])\n",
    "    mesh = o3d.io.read_triangle_mesh(TilePath+allObjNames[a],True)\n",
    "    mesh.paint_uniform_color([1,1,1])\n",
    "    \n",
    "    backMesh = copy.deepcopy(detMesh)\n",
    "    \n",
    "    theta = -0.3233476477503846 #This is the theta we need... just trust me\n",
    "    c_center = mesh.get_center()\n",
    "    \n",
    "    mesh.rotate(mesh.get_rotation_matrix_from_xyz((0, 0, theta)),center=c_center)\n",
    "    backMesh.rotate(mesh.get_rotation_matrix_from_xyz((0, 0, theta)),center=c_center)\n",
    "    \n",
    "    \n",
    "    vis = o3d.visualization.Visualizer()\n",
    "    vis\n",
    "    vis.create_window(width=1080,height=1080)#Max depth resolution in 1080, for some reason won't render properly for any higher\n",
    "    vis.add_geometry(mesh)\n",
    "    ctr = vis.get_view_control()\n",
    "    ctr.set_zoom(0.5)\n",
    "    phcam = ctr.convert_to_pinhole_camera_parameters()\n",
    "    vis.add_geometry(backMesh)\n",
    "    ctr.convert_from_pinhole_camera_parameters(phcam)\n",
    "    ctr.change_field_of_view(step=-13)\n",
    "    ctr.set_zoom(0.00785)\n",
    "    vis.run()\n",
    "    \n",
    "    vis.destroy_window()\n",
    "    del ctr\n",
    "    del vis"
   ]
  },
  {
   "cell_type": "code",
   "execution_count": 3,
   "metadata": {},
   "outputs": [
    {
     "name": "stderr",
     "output_type": "stream",
     "text": [
      "  2%|▏         | 13/766 [00:20<20:04,  1.60s/it]\n"
     ]
    },
    {
     "ename": "KeyboardInterrupt",
     "evalue": "",
     "output_type": "error",
     "traceback": [
      "\u001b[0;31m---------------------------------------------------------------------------\u001b[0m",
      "\u001b[0;31mKeyboardInterrupt\u001b[0m                         Traceback (most recent call last)",
      "\u001b[0;32m<ipython-input-3-ca6b5ef7dbc5>\u001b[0m in \u001b[0;36m<module>\u001b[0;34m\u001b[0m\n\u001b[1;32m     38\u001b[0m \u001b[0;32mfor\u001b[0m \u001b[0ma\u001b[0m \u001b[0;32min\u001b[0m \u001b[0mtqdm\u001b[0m\u001b[0;34m(\u001b[0m\u001b[0mrange\u001b[0m\u001b[0;34m(\u001b[0m\u001b[0mlen\u001b[0m\u001b[0;34m(\u001b[0m\u001b[0mallObjNames\u001b[0m\u001b[0;34m)\u001b[0m\u001b[0;34m)\u001b[0m\u001b[0;34m)\u001b[0m\u001b[0;34m:\u001b[0m\u001b[0;34m\u001b[0m\u001b[0;34m\u001b[0m\u001b[0m\n\u001b[1;32m     39\u001b[0m     \u001b[0mindex\u001b[0m \u001b[0;34m=\u001b[0m \u001b[0ma\u001b[0m\u001b[0;34m\u001b[0m\u001b[0;34m\u001b[0m\u001b[0m\n\u001b[0;32m---> 40\u001b[0;31m     \u001b[0mmesh\u001b[0m \u001b[0;34m=\u001b[0m \u001b[0mo3d\u001b[0m\u001b[0;34m.\u001b[0m\u001b[0mio\u001b[0m\u001b[0;34m.\u001b[0m\u001b[0mread_triangle_mesh\u001b[0m\u001b[0;34m(\u001b[0m\u001b[0mpath\u001b[0m \u001b[0;34m+\u001b[0m \u001b[0mallObjNames\u001b[0m\u001b[0;34m[\u001b[0m\u001b[0mindex\u001b[0m\u001b[0;34m]\u001b[0m\u001b[0;34m,\u001b[0m\u001b[0;32mTrue\u001b[0m\u001b[0;34m)\u001b[0m\u001b[0;34m\u001b[0m\u001b[0;34m\u001b[0m\u001b[0m\n\u001b[0m\u001b[1;32m     41\u001b[0m     \u001b[0mmesh\u001b[0m\u001b[0;34m.\u001b[0m\u001b[0mpaint_uniform_color\u001b[0m\u001b[0;34m(\u001b[0m\u001b[0;34m[\u001b[0m\u001b[0;36m1\u001b[0m\u001b[0;34m,\u001b[0m\u001b[0;36m1\u001b[0m\u001b[0;34m,\u001b[0m\u001b[0;36m1\u001b[0m\u001b[0;34m]\u001b[0m\u001b[0;34m)\u001b[0m\u001b[0;34m\u001b[0m\u001b[0;34m\u001b[0m\u001b[0m\n\u001b[1;32m     42\u001b[0m \u001b[0;34m\u001b[0m\u001b[0m\n",
      "\u001b[0;31mKeyboardInterrupt\u001b[0m: "
     ]
    }
   ],
   "source": [
    "#This script has not been formatted for external use\n",
    "\n",
    "import open3d as o3d\n",
    "import numpy as np\n",
    "import copy\n",
    "import matplotlib.pyplot as plt\n",
    "\n",
    "#Data Path\n",
    "detPath = \"../../Data/detrital_mesh.obj\"\n",
    "path = \"../../Data/Tiles/\"\n",
    "path_out = \"out/\"\n",
    "\n",
    "from os import listdir\n",
    "from os.path import isfile, join\n",
    "\n",
    "allfiles = [f for f in listdir(path) if isfile(join(path, f))]\n",
    "allObjNames = [f for f in allfiles if (f.find(\".obj\") != -1)]\n",
    "base_name = [allObjNames[a][:-4] for a in range(len(allObjNames))]\n",
    "\n",
    "detMesh = o3d.io.read_triangle_mesh(detPath)\n",
    "detMesh.paint_uniform_color([0,0,0])\n",
    "\n",
    "\n",
    "\n",
    "def move_forward(vis):\n",
    "    i_name = path_out + base_name[index] + \"_class.png\"\n",
    "    \n",
    "    vis.capture_screen_image(i_name,True)\n",
    "    vis.register_animation_callback(None)\n",
    "    vis.destroy_window()\n",
    "    return False\n",
    "\n",
    "#Suppressing output\n",
    "o3d.utility.set_verbosity_level(o3d.utility.VerbosityLevel.Error)\n",
    "\n",
    "from tqdm import tqdm\n",
    "\n",
    "for a in tqdm(range(len(allObjNames))):\n",
    "    index = a\n",
    "    mesh = o3d.io.read_triangle_mesh(path + allObjNames[index],True)\n",
    "    mesh.paint_uniform_color([1,1,1])\n",
    "    \n",
    "    backMesh = copy.deepcopy(detMesh)\n",
    "    \n",
    "    theta = -0.3233476477503846 #This is the theta we need... just trust me\n",
    "    c_center = mesh.get_center()\n",
    "    \n",
    "    mesh.rotate(mesh.get_rotation_matrix_from_xyz((0, 0, theta)),center=c_center)\n",
    "    backMesh.rotate(mesh.get_rotation_matrix_from_xyz((0, 0, theta)),center=c_center)\n",
    "    \n",
    "    vis = o3d.visualization.Visualizer()\n",
    "    vis.create_window(width=4096,height=4096,visible=False)#Max depth resolution in 1080, for some reason won't render properly for any higher\n",
    "    vis.add_geometry(mesh)\n",
    "    ctr = vis.get_view_control()\n",
    "    ctr.set_zoom(0.5)\n",
    "    phcam = ctr.convert_to_pinhole_camera_parameters()\n",
    "    vis.add_geometry(backMesh)\n",
    "    ctr.convert_from_pinhole_camera_parameters(phcam)\n",
    "    ctr.change_field_of_view(step=-13)\n",
    "    ctr.set_zoom(0.00785)\n",
    "    \n",
    "    vis.register_animation_callback(move_forward)\n",
    "    vis.run()\n",
    "    del ctr\n",
    "    del vis\n"
   ]
  },
  {
   "cell_type": "code",
   "execution_count": 5,
   "metadata": {},
   "outputs": [
    {
     "data": {
      "text/plain": [
       "'/home/danielh/Documents/School/CITS5014 (git)/C5014ResearchProject/Notebooks'"
      ]
     },
     "execution_count": 5,
     "metadata": {},
     "output_type": "execute_result"
    }
   ],
   "source": [
    "import os\n",
    "os.getcwd()"
   ]
  },
  {
   "cell_type": "code",
   "execution_count": null,
   "metadata": {},
   "outputs": [],
   "source": []
  }
 ],
 "metadata": {
  "kernelspec": {
   "display_name": "Python 3",
   "language": "python",
   "name": "python3"
  },
  "language_info": {
   "codemirror_mode": {
    "name": "ipython",
    "version": 3
   },
   "file_extension": ".py",
   "mimetype": "text/x-python",
   "name": "python",
   "nbconvert_exporter": "python",
   "pygments_lexer": "ipython3",
   "version": "3.8.5"
  }
 },
 "nbformat": 4,
 "nbformat_minor": 4
}
