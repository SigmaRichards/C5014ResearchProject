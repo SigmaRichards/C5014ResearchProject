{
 "cells": [
  {
   "cell_type": "code",
   "execution_count": 1,
   "metadata": {},
   "outputs": [],
   "source": [
    "import open3d as o3d\n",
    "import numpy as np"
   ]
  },
  {
   "cell_type": "code",
   "execution_count": 2,
   "metadata": {},
   "outputs": [],
   "source": [
    "#Data Path\n",
    "path = \"../../../Data/Tiles/\""
   ]
  },
  {
   "cell_type": "code",
   "execution_count": 3,
   "metadata": {},
   "outputs": [],
   "source": [
    "from os import listdir\n",
    "from os.path import isfile, join\n",
    "\n",
    "allfiles = [f for f in listdir(path) if isfile(join(path, f))]\n",
    "allObjNames = [f for f in allfiles if (f.find(\".obj\") != -1)]"
   ]
  },
  {
   "cell_type": "code",
   "execution_count": 4,
   "metadata": {},
   "outputs": [
    {
     "name": "stdout",
     "output_type": "stream",
     "text": [
      "[Open3D INFO] Skipping non-triangle primitive geometry of type: 1\n",
      "[Open3D INFO] Skipping non-triangle primitive geometry of type: 2\n"
     ]
    }
   ],
   "source": [
    "index = 1\n",
    "mesh = o3d.io.read_triangle_mesh(path + allObjNames[index],True)"
   ]
  },
  {
   "cell_type": "code",
   "execution_count": 5,
   "metadata": {},
   "outputs": [],
   "source": [
    "#Looking at the example image\n",
    "o3d.visualization.draw_geometries([mesh])"
   ]
  },
  {
   "cell_type": "code",
   "execution_count": 6,
   "metadata": {},
   "outputs": [
    {
     "data": {
      "text/plain": [
       "['HalfEdgeTriangleMesh',\n",
       " 'Image',\n",
       " 'LineSet',\n",
       " 'PointCloud',\n",
       " 'RGBDImage',\n",
       " 'TetraMesh',\n",
       " 'TriangleMesh',\n",
       " 'Type',\n",
       " 'Unspecified',\n",
       " 'VoxelGrid',\n",
       " '__add__',\n",
       " '__class__',\n",
       " '__copy__',\n",
       " '__deepcopy__',\n",
       " '__delattr__',\n",
       " '__dir__',\n",
       " '__doc__',\n",
       " '__eq__',\n",
       " '__format__',\n",
       " '__ge__',\n",
       " '__getattribute__',\n",
       " '__gt__',\n",
       " '__hash__',\n",
       " '__iadd__',\n",
       " '__init__',\n",
       " '__init_subclass__',\n",
       " '__le__',\n",
       " '__lt__',\n",
       " '__module__',\n",
       " '__ne__',\n",
       " '__new__',\n",
       " '__reduce__',\n",
       " '__reduce_ex__',\n",
       " '__repr__',\n",
       " '__setattr__',\n",
       " '__sizeof__',\n",
       " '__str__',\n",
       " '__subclasshook__',\n",
       " 'adjacency_list',\n",
       " 'clear',\n",
       " 'cluster_connected_triangles',\n",
       " 'compute_adjacency_list',\n",
       " 'compute_convex_hull',\n",
       " 'compute_triangle_normals',\n",
       " 'compute_vertex_normals',\n",
       " 'create_arrow',\n",
       " 'create_box',\n",
       " 'create_cone',\n",
       " 'create_coordinate_frame',\n",
       " 'create_cylinder',\n",
       " 'create_from_point_cloud_alpha_shape',\n",
       " 'create_from_point_cloud_ball_pivoting',\n",
       " 'create_from_point_cloud_poisson',\n",
       " 'create_icosahedron',\n",
       " 'create_moebius',\n",
       " 'create_octahedron',\n",
       " 'create_sphere',\n",
       " 'create_tetrahedron',\n",
       " 'create_torus',\n",
       " 'crop',\n",
       " 'deform_as_rigid_as_possible',\n",
       " 'dimension',\n",
       " 'euler_poincare_characteristic',\n",
       " 'filter_sharpen',\n",
       " 'filter_smooth_laplacian',\n",
       " 'filter_smooth_simple',\n",
       " 'filter_smooth_taubin',\n",
       " 'get_axis_aligned_bounding_box',\n",
       " 'get_center',\n",
       " 'get_geometry_type',\n",
       " 'get_max_bound',\n",
       " 'get_min_bound',\n",
       " 'get_non_manifold_edges',\n",
       " 'get_non_manifold_vertices',\n",
       " 'get_oriented_bounding_box',\n",
       " 'get_rotation_matrix_from_axis_angle',\n",
       " 'get_rotation_matrix_from_quaternion',\n",
       " 'get_rotation_matrix_from_xyz',\n",
       " 'get_rotation_matrix_from_xzy',\n",
       " 'get_rotation_matrix_from_yxz',\n",
       " 'get_rotation_matrix_from_yzx',\n",
       " 'get_rotation_matrix_from_zxy',\n",
       " 'get_rotation_matrix_from_zyx',\n",
       " 'get_self_intersecting_triangles',\n",
       " 'get_surface_area',\n",
       " 'get_volume',\n",
       " 'has_adjacency_list',\n",
       " 'has_textures',\n",
       " 'has_triangle_material_ids',\n",
       " 'has_triangle_normals',\n",
       " 'has_triangle_uvs',\n",
       " 'has_triangles',\n",
       " 'has_vertex_colors',\n",
       " 'has_vertex_normals',\n",
       " 'has_vertices',\n",
       " 'is_edge_manifold',\n",
       " 'is_empty',\n",
       " 'is_intersecting',\n",
       " 'is_orientable',\n",
       " 'is_self_intersecting',\n",
       " 'is_vertex_manifold',\n",
       " 'is_watertight',\n",
       " 'merge_close_vertices',\n",
       " 'normalize_normals',\n",
       " 'orient_triangles',\n",
       " 'paint_uniform_color',\n",
       " 'remove_degenerate_triangles',\n",
       " 'remove_duplicated_triangles',\n",
       " 'remove_duplicated_vertices',\n",
       " 'remove_non_manifold_edges',\n",
       " 'remove_triangles_by_index',\n",
       " 'remove_triangles_by_mask',\n",
       " 'remove_unreferenced_vertices',\n",
       " 'remove_vertices_by_index',\n",
       " 'remove_vertices_by_mask',\n",
       " 'rotate',\n",
       " 'sample_points_poisson_disk',\n",
       " 'sample_points_uniformly',\n",
       " 'scale',\n",
       " 'select_by_index',\n",
       " 'simplify_quadric_decimation',\n",
       " 'simplify_vertex_clustering',\n",
       " 'subdivide_loop',\n",
       " 'subdivide_midpoint',\n",
       " 'textures',\n",
       " 'transform',\n",
       " 'translate',\n",
       " 'triangle_material_ids',\n",
       " 'triangle_normals',\n",
       " 'triangle_uvs',\n",
       " 'triangles',\n",
       " 'vertex_colors',\n",
       " 'vertex_normals',\n",
       " 'vertices']"
      ]
     },
     "execution_count": 6,
     "metadata": {},
     "output_type": "execute_result"
    }
   ],
   "source": [
    "dir(mesh)"
   ]
  },
  {
   "cell_type": "code",
   "execution_count": 7,
   "metadata": {},
   "outputs": [
    {
     "data": {
      "text/plain": [
       "506217"
      ]
     },
     "execution_count": 7,
     "metadata": {},
     "output_type": "execute_result"
    }
   ],
   "source": [
    "#Expectation that UVs are in 3s for each triangle\n",
    "np.asarray(mesh.triangles).shape[0]*3"
   ]
  },
  {
   "cell_type": "code",
   "execution_count": 8,
   "metadata": {},
   "outputs": [
    {
     "data": {
      "text/plain": [
       "array([ 526.3614502 , 3170.82543945])"
      ]
     },
     "execution_count": 8,
     "metadata": {},
     "output_type": "execute_result"
    }
   ],
   "source": [
    "np.asarray(mesh.triangle_uvs)[2]*[8192,4096]"
   ]
  },
  {
   "cell_type": "code",
   "execution_count": 9,
   "metadata": {},
   "outputs": [],
   "source": [
    "import matplotlib.image as img\n",
    "import matplotlib.pyplot as plt"
   ]
  },
  {
   "cell_type": "code",
   "execution_count": 10,
   "metadata": {},
   "outputs": [],
   "source": [
    "imgv=img.imread(path+\"Tile_+3103_+37471_0.jpg\")"
   ]
  },
  {
   "cell_type": "code",
   "execution_count": 11,
   "metadata": {},
   "outputs": [],
   "source": [
    "int_a = np.rint(np.asarray(mesh.triangle_uvs)*np.flip(imgv.shape[:2])).astype(int)"
   ]
  },
  {
   "cell_type": "code",
   "execution_count": 12,
   "metadata": {},
   "outputs": [],
   "source": [
    "a_0 = np.append(int_a,np.zeros((int_a.shape[0],1)),axis=1)\n",
    "a_1 = np.append(int_a,np.zeros((int_a.shape[0],1))+1,axis=1)\n",
    "a_2 = np.append(int_a,np.zeros((int_a.shape[0],1))+2,axis=1)\n",
    "ind_mat = np.stack((a_0,a_1,a_2))"
   ]
  },
  {
   "cell_type": "code",
   "execution_count": 13,
   "metadata": {},
   "outputs": [],
   "source": [
    "def index_32(mat,a,b):\n",
    "    return mat[a,b,:]"
   ]
  },
  {
   "cell_type": "code",
   "execution_count": 14,
   "metadata": {},
   "outputs": [
    {
     "data": {
      "text/plain": [
       "array([171, 145, 130], dtype=uint8)"
      ]
     },
     "execution_count": 14,
     "metadata": {},
     "output_type": "execute_result"
    }
   ],
   "source": [
    "int_a[0,0]\n",
    "index_32(imgv,int_a[0,0],int_a[0,1])"
   ]
  },
  {
   "cell_type": "code",
   "execution_count": 15,
   "metadata": {},
   "outputs": [
    {
     "data": {
      "text/plain": [
       "(4096, 8192, 3)"
      ]
     },
     "execution_count": 15,
     "metadata": {},
     "output_type": "execute_result"
    }
   ],
   "source": [
    "imgv.shape"
   ]
  },
  {
   "cell_type": "code",
   "execution_count": 16,
   "metadata": {},
   "outputs": [],
   "source": [
    "#Steps:\n",
    "##Choose resolution\n",
    "##Go through pixel by pixel\n",
    "###Get colour\n",
    "###Get height"
   ]
  },
  {
   "cell_type": "code",
   "execution_count": 128,
   "metadata": {},
   "outputs": [
    {
     "ename": "SyntaxError",
     "evalue": "invalid syntax (<ipython-input-128-b163e40ebafa>, line 3)",
     "output_type": "error",
     "traceback": [
      "\u001b[0;36m  File \u001b[0;32m\"<ipython-input-128-b163e40ebafa>\"\u001b[0;36m, line \u001b[0;32m3\u001b[0m\n\u001b[0;31m    for x in range\u001b[0m\n\u001b[0m                  ^\u001b[0m\n\u001b[0;31mSyntaxError\u001b[0m\u001b[0;31m:\u001b[0m invalid syntax\n"
     ]
    }
   ],
   "source": [
    "#Psudeo code\n",
    "res = [4096,4096]\n",
    "img_out = np.zeros((res,res,4))\n",
    "for x in range(res):\n",
    "    for y in range(res):\n",
    "        t_ind = get_tri_from_xy(tris,x,y,res)\n",
    "        ind = 3*t_ind\n",
    "        int_a_vs = int_a[ind,:]\n",
    "        pix_index = get_index_for_pix(tris[t_ind],int_a_vs,x,y)\n",
    "        pix_val = index_img(imgv,pix_index)        "
   ]
  },
  {
   "cell_type": "code",
   "execution_count": 17,
   "metadata": {},
   "outputs": [
    {
     "data": {
      "text/plain": [
       "93935"
      ]
     },
     "execution_count": 17,
     "metadata": {},
     "output_type": "execute_result"
    }
   ],
   "source": [
    "mesh.compute_adjacency_list()\n",
    "len(mesh.adjacency_list)"
   ]
  },
  {
   "cell_type": "code",
   "execution_count": 18,
   "metadata": {},
   "outputs": [
    {
     "data": {
      "text/plain": [
       "array([[70469.640625  , 60168.796875  ],\n",
       "       [70470.03125   , 60168.89453125],\n",
       "       [70469.4921875 , 60169.23828125],\n",
       "       ...,\n",
       "       [70420.1875    , 60358.05859375],\n",
       "       [70257.703125  , 60303.60546875],\n",
       "       [70257.03125   , 60303.37890625]])"
      ]
     },
     "execution_count": 18,
     "metadata": {},
     "output_type": "execute_result"
    }
   ],
   "source": [
    "vertsxy = np.asarray(mesh.vertices)[:,0:2]\n",
    "vertsxy"
   ]
  },
  {
   "cell_type": "code",
   "execution_count": 19,
   "metadata": {},
   "outputs": [
    {
     "data": {
      "text/plain": [
       "array([[[70469.640625  , 60168.796875  ],\n",
       "        [70470.03125   , 60168.89453125],\n",
       "        [70469.4921875 , 60169.23828125]],\n",
       "\n",
       "       [[70470.03125   , 60168.89453125],\n",
       "        [70469.640625  , 60168.796875  ],\n",
       "        [70470.140625  , 60168.30078125]],\n",
       "\n",
       "       [[70469.203125  , 60168.9296875 ],\n",
       "        [70469.640625  , 60168.796875  ],\n",
       "        [70469.4921875 , 60169.23828125]],\n",
       "\n",
       "       ...,\n",
       "\n",
       "       [[70331.7578125 , 60320.68359375],\n",
       "        [70331.703125  , 60321.015625  ],\n",
       "        [70331.59375   , 60321.33203125]],\n",
       "\n",
       "       [[70494.09375   , 60171.82421875],\n",
       "        [70494.0859375 , 60171.90625   ],\n",
       "        [70494.        , 60171.79296875]],\n",
       "\n",
       "       [[70445.7109375 , 60366.61328125],\n",
       "        [70445.9453125 , 60366.54296875],\n",
       "        [70445.6875    , 60366.6015625 ]]])"
      ]
     },
     "execution_count": 19,
     "metadata": {},
     "output_type": "execute_result"
    }
   ],
   "source": [
    "triangles_ind = np.asarray(mesh.triangles)\n",
    "triangles = np.asarray([vertsxy[a] for a in triangles_ind])\n",
    "triangles"
   ]
  },
  {
   "cell_type": "code",
   "execution_count": 119,
   "metadata": {},
   "outputs": [
    {
     "data": {
      "text/plain": [
       "1.0"
      ]
     },
     "execution_count": 119,
     "metadata": {},
     "output_type": "execute_result"
    }
   ],
   "source": [
    "#Scaling and ordering triangles\n",
    "scaled_tris = triangles - [np.min(triangles[:,:,0]),np.min(triangles[:,:,1])]\n",
    "scaled_tris = scaled_tris / [np.max(scaled_tris[:,:,0]),np.max(scaled_tris[:,:,1])]\n",
    "order = np.argsort(scaled_tris[:,:,0],axis=1)\n",
    "scaled_tris = np.asarray([scaled_tris[a][order[a]] for a in range(order.shape[0])])\n",
    "np.max(scaled_tris)"
   ]
  },
  {
   "cell_type": "code",
   "execution_count": 51,
   "metadata": {},
   "outputs": [],
   "source": [
    "#Function (and utility functions) for determining if point within triangle\n",
    "#point is defined as list of size 2 [x,y], triangle is\n",
    "#defined as a list of size 3, each a list of size 2 defining a point\n",
    "def tri_order(triangle):\n",
    "    #Ordering points in triangle by x order\n",
    "    xs = [a[0] for a in triangle]\n",
    "    order_ind = np.argsort(xs)\n",
    "    return [triangle[a] for a in order_ind]\n",
    "\n",
    "def line_cond(m,c,g,point):\n",
    "    return ((point[1]-m*point[0]>c) == g)\n",
    "\n",
    "\n",
    "def in_Triangle(x,y, triangle):\n",
    "    point = [x,y]\n",
    "    a,b,c = tri_order(triangle)\n",
    "    \n",
    "    m_ab = (b[1]-a[1])/(b[0]-a[0])\n",
    "    c_ab = a[1] - m_ab*a[0]\n",
    "    g_ab = (c[1]>(m_ab*c[0]+c_ab))\n",
    "    if not line_cond(m_ab,c_ab,g_ab,point):\n",
    "        return False\n",
    "    \n",
    "    m_bc = (b[1]-c[1])/(b[0]-c[0])\n",
    "    c_bc = b[1] - m_bc*b[0]\n",
    "    g_bc = (a[1]>(m_bc*a[0]+c_bc))\n",
    "    if not line_cond(m_bc,c_bc,g_bc,point):\n",
    "        return False\n",
    "    \n",
    "    m_ac = (a[1]-c[1])/(a[0]-c[0])\n",
    "    c_ac = a[1] - m_ac*a[0]\n",
    "    g_ac = (b[1]>(m_ac*b[0]+c_ac))\n",
    "    if not line_cond(m_ac,c_ac,g_ac,point):\n",
    "        return False\n",
    "    \n",
    "    return True"
   ]
  },
  {
   "cell_type": "code",
   "execution_count": 52,
   "metadata": {},
   "outputs": [],
   "source": [
    "#assuming scaled x and y\n",
    "def get_tri_from_xy(triangles,x,y):\n",
    "    for tri in triangles:\n",
    "        xtest = all([(min(tri[:,0])<=x),(x<=max(tri[:,0]))])\n",
    "        if xtest:\n",
    "            ytest = all([(min(tri[:,1])<=y),(y<=max(tri[:,1]))])\n",
    "            if ytest:\n",
    "                if in_Triangle(x,y,tri):\n",
    "                    return tri"
   ]
  },
  {
   "cell_type": "code",
   "execution_count": 53,
   "metadata": {},
   "outputs": [
    {
     "data": {
      "text/plain": [
       "array([[0.49669936, 0.49892035],\n",
       "       [0.50132642, 0.49912086],\n",
       "       [0.49515701, 0.50569128]])"
      ]
     },
     "execution_count": 53,
     "metadata": {},
     "output_type": "execute_result"
    }
   ],
   "source": [
    "#Works, but slow\n",
    "get_tri_from_xy(scaled_tris,0.5,0.5)"
   ]
  },
  {
   "cell_type": "code",
   "execution_count": 120,
   "metadata": {},
   "outputs": [],
   "source": [
    "all_a = scaled_tris[:,0,:]\n",
    "all_b = scaled_tris[:,1,:]\n",
    "all_c = scaled_tris[:,2,:]"
   ]
  },
  {
   "cell_type": "code",
   "execution_count": 162,
   "metadata": {},
   "outputs": [],
   "source": [
    "def get_line_eq(a,b,c):\n",
    "    x_diff = (b[:,0]-a[:,0])\n",
    "    y_diff = (b[:,1]-a[:,1])\n",
    "    non_zero = x_diff != 0\n",
    "    zeros = x_diff == 0\n",
    "    mab = np.zeros(x_diff.shape)\n",
    "    mab[non_zero] = y_diff[non_zero]/x_diff[non_zero]\n",
    "    mab[zeros] = np.NAN\n",
    "    cab = a[:,1] - mab*a[:,0]\n",
    "    cab[zeros] = a[zeros,0]\n",
    "    \n",
    "    gab = np.zeros(x_diff.shape)\n",
    "    gab[non_zero] = (c[non_zero,1]>(mab[non_zero]*c[non_zero,0]+cab[non_zero]))\n",
    "    gab[zeros] = c[zeros,0]>a[zeros,0]\n",
    "    \n",
    "    out = np.stack((mab,cab,gab))\n",
    "    out = np.swapaxes(out,0,1)\n",
    "    \n",
    "    return out\n",
    "\n",
    "def line_cond(eq,point):\n",
    "    val = point[1] - eq[:,0]*point[0]\n",
    "    val[np.isnan(val)] = point[0]\n",
    "    gt = eq[:,2]==1\n",
    "    lt = eq[:,2]==0\n",
    "    cond = np.ones(eq.shape[0],dtype = bool)\n",
    "    cond[gt] = val[gt] >= eq[gt,1]\n",
    "    cond[lt] = val[lt] <= eq[lt,1]\n",
    "    return cond\n",
    "    \n",
    "def get_tri_eqs(a,b,c,point):\n",
    "    ab = get_line_eq(a,b,c)\n",
    "    a_cond = line_cond\n",
    "    \n",
    "    bc = get_line_eq(b,c,a)\n",
    "    ac = get_line_eq(a,c,b)\n",
    "    "
   ]
  },
  {
   "cell_type": "code",
   "execution_count": 161,
   "metadata": {},
   "outputs": [
    {
     "data": {
      "text/plain": [
       "array([-2.97368421,  0.25      ,  1.06756757, ..., -2.89285714,\n",
       "        1.31818182,  0.5       ])"
      ]
     },
     "execution_count": 161,
     "metadata": {},
     "output_type": "execute_result"
    }
   ],
   "source": [
    "get_line_eq(all_a,all_b,all_c)[:,0]"
   ]
  },
  {
   "cell_type": "code",
   "execution_count": 164,
   "metadata": {},
   "outputs": [
    {
     "data": {
      "text/plain": [
       "True"
      ]
     },
     "execution_count": 164,
     "metadata": {},
     "output_type": "execute_result"
    }
   ],
   "source": [
    "np.isnan(np.NAN)"
   ]
  },
  {
   "cell_type": "code",
   "execution_count": null,
   "metadata": {},
   "outputs": [],
   "source": []
  }
 ],
 "metadata": {
  "kernelspec": {
   "display_name": "Python 3",
   "language": "python",
   "name": "python3"
  },
  "language_info": {
   "codemirror_mode": {
    "name": "ipython",
    "version": 3
   },
   "file_extension": ".py",
   "mimetype": "text/x-python",
   "name": "python",
   "nbconvert_exporter": "python",
   "pygments_lexer": "ipython3",
   "version": "3.8.5"
  }
 },
 "nbformat": 4,
 "nbformat_minor": 4
}
