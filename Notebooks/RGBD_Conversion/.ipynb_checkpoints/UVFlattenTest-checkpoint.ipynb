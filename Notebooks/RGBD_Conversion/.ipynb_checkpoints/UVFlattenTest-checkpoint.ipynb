{
 "cells": [
  {
   "cell_type": "code",
   "execution_count": null,
   "metadata": {},
   "outputs": [],
   "source": [
    "import open3d as o3d\n",
    "import numpy as np"
   ]
  },
  {
   "cell_type": "code",
   "execution_count": null,
   "metadata": {},
   "outputs": [],
   "source": [
    "#Data Path\n",
    "path = \"../../../Data/Tiles/\""
   ]
  },
  {
   "cell_type": "code",
   "execution_count": null,
   "metadata": {},
   "outputs": [],
   "source": [
    "from os import listdir\n",
    "from os.path import isfile, join\n",
    "\n",
    "allfiles = [f for f in listdir(path) if isfile(join(path, f))]\n",
    "allObjNames = [f for f in allfiles if (f.find(\".obj\") != -1)]"
   ]
  },
  {
   "cell_type": "code",
   "execution_count": null,
   "metadata": {},
   "outputs": [],
   "source": [
    "index = 1\n",
    "mesh = o3d.io.read_triangle_mesh(path + allObjNames[index],True)\n",
    "#Looking at the example image\n",
    "o3d.visualization.draw_geometries([mesh])"
   ]
  },
  {
   "cell_type": "code",
   "execution_count": null,
   "metadata": {},
   "outputs": [],
   "source": [
    "vertices = np.asarray(mesh.vertices)\n",
    "triangles = np.asarray(mesh.triangles)\n",
    "triangles = vertices[triangles]\n",
    "triangles = triangles[:,:,0:2]\n",
    "scaled_tris = triangles - np.min(np.min(triangles,axis=0),axis=0)\n",
    "scaled_tris = scaled_tris/np.max(np.max(scaled_tris,axis=0),axis=0)"
   ]
  },
  {
   "cell_type": "code",
   "execution_count": null,
   "metadata": {},
   "outputs": [],
   "source": [
    "import matplotlib.image as img\n",
    "import matplotlib.pyplot as plt"
   ]
  },
  {
   "cell_type": "code",
   "execution_count": null,
   "metadata": {},
   "outputs": [],
   "source": [
    "imgv=img.imread(path+\"Tile_+3103_+37471_0.jpg\")"
   ]
  },
  {
   "cell_type": "code",
   "execution_count": null,
   "metadata": {},
   "outputs": [],
   "source": [
    "#Image indices, for each triangle vertex\n",
    "int_a = np.rint(np.asarray(mesh.triangle_uvs)*np.flip(imgv.shape[:2])).astype(int)"
   ]
  },
  {
   "cell_type": "code",
   "execution_count": null,
   "metadata": {},
   "outputs": [],
   "source": [
    "def get_ind_grid(inds,img):\n",
    "    minx=np.floor(np.min(inds[:,0])).astype(int)\n",
    "    maxx=np.ceil(np.max(inds[:,0])).astype(int)\n",
    "    miny=np.floor(np.min(inds[:,1])).astype(int)\n",
    "    maxy=np.ceil(np.max(inds[:,1])).astype(int)\n",
    "    return [[minx,maxx],[miny,maxy]]\n",
    "\n",
    "def get_uv_grid(grid_ind):\n",
    "    xs = [x for x in range(grid_ind[0][0],grid_ind[0][1]+1)]\n",
    "    ys = [y for y in range(grid_ind[1][0],grid_ind[1][1]+1)]\n",
    "    grid = [xs,ys]\n",
    "    grid = np.asarray(grid)\n",
    "    return grid\n",
    "\n",
    "def in_tri(tri,point):\n",
    "    a=tri[1,1]-tri[2,1]\n",
    "    b=tri[2,0]-tri[1,0]\n",
    "    c=tri[0,0]-tri[2,0]\n",
    "    d=tri[0,1]-tri[2,1]\n",
    "    e=point[0]-tri[2,0]\n",
    "    f=point[1]-tri[2,1]\n",
    "    alpha = (a*e+b*f)/(a*c+b*d)\n",
    "    beta = (c*f-a*e)/(a*c+b*d)\n",
    "    gamma = 1-alpha-beta\n",
    "    return min([alpha,beta,gamma])>=0\n",
    "\n",
    "def check_grid(grid_mm,inds):\n",
    "    truth = np.zeros((grid_mm[0][1]-grid_mm[0][0]+1,grid_mm[1][1]-grid_mm[1][0]+1),dtype=bool)\n",
    "    for x in range(grid_mm[0][0],grid_mm[0][1]+1):\n",
    "        for y in range(grid_mm[1][0],grid_mm[1][1]+1):\n",
    "            truth[x-grid_mm[0][0],y-grid_mm[1][0]] = in_tri(inds,[x,y])\n",
    "    return truth"
   ]
  },
  {
   "cell_type": "code",
   "execution_count": null,
   "metadata": {},
   "outputs": [],
   "source": [
    "def check_degen(tri):\n",
    "    a=tri[1,1]-tri[2,1]\n",
    "    b=tri[2,0]-tri[1,0]\n",
    "    c=tri[0,0]-tri[2,0]\n",
    "    d=tri[0,1]-tri[2,1]\n",
    "    \n",
    "    return (a*c+b*d)==0\n",
    "\n",
    "def get_all_bary(tri,grid_uv):\n",
    "    a=tri[1,1]-tri[2,1]\n",
    "    b=tri[2,0]-tri[1,0]\n",
    "    c=tri[0,0]-tri[2,0]\n",
    "    d=tri[0,1]-tri[2,1]\n",
    "    e=grid_uv[0]-tri[2,0]#u\n",
    "    f=grid_uv[1]-tri[2,1]#v\n",
    "    \n",
    "    bary_grid = np.asarray([[[(a*u+b*v)/(a*c+b*d),(c*v-a*u)/(a*c+b*d)] for u in e] for v in f])\n",
    "    gamma = 1-bary_grid[:,:,0]-bary_grid[:,:,1]\n",
    "    bary_grid = np.append(bary_grid,np.transpose(np.asarray([gamma]),(1,2,0)),axis=2)\n",
    "    return bary_grid\n",
    "\n",
    "def find_closest_coord(coord,ref_grid):\n",
    "    dis = np.sum(np.power(ref_grid-coord,2),axis=2)\n",
    "    coord = np.asarray(np.where(dis == np.min(dis)))\n",
    "    return coord\n",
    "\n",
    "def transform_triangle(tri3,uv_tri,ref_img,out_img):\n",
    "    if(any([check_degen(tri3),check_degen(uv_tri)])):\n",
    "        return [out_img,1]\n",
    "    out = out_img\n",
    "    \n",
    "    ind_grid3 = get_ind_grid(tri3,0)\n",
    "    uv_grid3 = get_uv_grid(ind_grid3)\n",
    "    bary_grid3 = get_all_bary(tri3,uv_grid3)\n",
    "    \n",
    "    ind_grid_uv = get_ind_grid(uv_tri,0)\n",
    "    uv_grid_uv = get_uv_grid(ind_grid_uv)\n",
    "    bary_grid_uv = get_all_bary(uv_tri,uv_grid_uv)\n",
    "    xs = uv_grid3[0]\n",
    "    ys = uv_grid3[1]\n",
    "    iter_x = bary_grid3.shape[1]\n",
    "    iter_y = bary_grid3.shape[0]    \n",
    "    for x in range(iter_x):\n",
    "        for y in range(iter_y):\n",
    "            if np.any(bary_grid3[y,x,:]<0):\n",
    "                continue\n",
    "            yv,xv = [a[0] for a in find_closest_coord(bary_grid3[y,x,:],bary_grid_uv).tolist()]\n",
    "            x_coord = uv_grid_uv[0][xv]\n",
    "            y_coord = uv_grid_uv[1][yv]\n",
    "            uv_val = ref_img[y_coord,x_coord]\n",
    "            x_out = xs[x]\n",
    "            y_out = ys[y]\n",
    "            out[x_out,y_out] = uv_val\n",
    "    return [out,0]"
   ]
  },
  {
   "cell_type": "code",
   "execution_count": null,
   "metadata": {},
   "outputs": [],
   "source": [
    "num = 12526\n",
    "size = 4096\n",
    "\n",
    "out_img = np.zeros((size,size,3))\n",
    "ref_img = imgv\n",
    "\n",
    "tri3 = scaled_tris[num,:]*size\n",
    "uv_tri = int_a[3*num:3*num+3,:]\n",
    "\n",
    "start = time()\n",
    "transform_triangle(tri3,uv_tri,ref_img,out_img)\n",
    "end = time()\n",
    "\n",
    "print(end-start)"
   ]
  },
  {
   "cell_type": "code",
   "execution_count": null,
   "metadata": {},
   "outputs": [],
   "source": [
    "from IPython.display import clear_output\n",
    "\n",
    "start = time()\n",
    "size = 4096\n",
    "\n",
    "out_img = np.zeros((size,size,3))\n",
    "ref_img = imgv\n",
    "deg_c = 0\n",
    "num_tris = scaled_tris.shape[0]\n",
    "for a in range(num_tris):\n",
    "    clear_output(wait=True)\n",
    "    print(a)\n",
    "    print(round(100*a/num_tris,2),\"% complete\")\n",
    "    print(\"Degeneracies: \",deg_c)\n",
    "    tri3 = scaled_tris[a,:]*size\n",
    "    uv_tri = int_a[3*a:3*a+3,:]\n",
    "    out_img,deg = transform_triangle(tri3,uv_tri,ref_img,out_img)\n",
    "    deg_c+=deg\n",
    "end = time()\n",
    "print(\"Time taken: \",end-start)\n",
    "plt.imshow(out_img)"
   ]
  },
  {
   "cell_type": "code",
   "execution_count": null,
   "metadata": {},
   "outputs": [],
   "source": [
    "np.max(scaled_tris*4096)"
   ]
  },
  {
   "cell_type": "code",
   "execution_count": null,
   "metadata": {},
   "outputs": [],
   "source": [
    "plt.imshow(out_img.astype(int))"
   ]
  },
  {
   "cell_type": "code",
   "execution_count": null,
   "metadata": {},
   "outputs": [],
   "source": [
    "from PIL import Image\n",
    "i2 = out_img.astype(int)\n",
    "im = Image.fromarray(i2)\n",
    "im.save(\"your_file.jpeg\")"
   ]
  },
  {
   "cell_type": "code",
   "execution_count": null,
   "metadata": {},
   "outputs": [],
   "source": [
    "np.floor(1.1).astype(int)"
   ]
  },
  {
   "cell_type": "code",
   "execution_count": null,
   "metadata": {},
   "outputs": [],
   "source": []
  }
 ],
 "metadata": {
  "kernelspec": {
   "display_name": "Python 3",
   "language": "python",
   "name": "python3"
  },
  "language_info": {
   "codemirror_mode": {
    "name": "ipython",
    "version": 3
   },
   "file_extension": ".py",
   "mimetype": "text/x-python",
   "name": "python",
   "nbconvert_exporter": "python",
   "pygments_lexer": "ipython3",
   "version": "3.8.5"
  }
 },
 "nbformat": 4,
 "nbformat_minor": 4
}
